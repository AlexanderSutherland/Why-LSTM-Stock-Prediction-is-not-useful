{
  "cells": [
    {
      "cell_type": "markdown",
      "metadata": {
        "collapsed": true,
        "id": "dfJtyp5Kefgy",
        "jupyter": {
          "outputs_hidden": true
        }
      },
      "source": [
        "# LSTM-CNN Project\n",
        "This section will process the raw data into processed data"
      ]
    },
    {
      "cell_type": "code",
      "execution_count": 1,
      "metadata": {
        "id": "e9wH5bYVefhA"
      },
      "outputs": [],
      "source": [
        "import math\n",
        "import time\n",
        "import io\n",
        "import numpy as np\n",
        "import pandas as pd\n",
        "import csv\n",
        "from IPython.display import Image\n",
        "\n",
        "# Pytorch package\n",
        "import torch\n",
        "import torch.nn as nn\n",
        "import torch.optim as optim\n",
        "\n",
        "# # Torchtest package\n",
        "# import torchtext\n",
        "# from torchtext.datasets import Multi30k\n",
        "# from torch.utils.data import DataLoader\n",
        "# from torchtext.data.utils import get_tokenizer\n",
        "# from collections import Counter\n",
        "# from torchtext.vocab import vocab\n",
        "# from torchtext.utils import download_from_url, extract_archive\n",
        "# from torch.nn.utils.rnn import pad_sequence\n",
        "\n",
        "\n",
        "\n",
        "\n",
        "\n",
        "# for auto-reloading external modules\n",
        "# see http://stackoverflow.com/questions/1907993/autoreload-of-modules-in-ipython\n",
        "%load_ext autoreload\n",
        "%autoreload 2"
      ]
    },
    {
      "cell_type": "code",
      "execution_count": 4,
      "metadata": {
        "id": "tHOKA0U5efhF",
        "colab": {
          "base_uri": "https://localhost:8080/"
        },
        "outputId": "3f721737-8d2f-4254-b0e7-f42c629a7986"
      },
      "outputs": [
        {
          "output_type": "stream",
          "name": "stdout",
          "text": [
            "You are using device: cuda\n"
          ]
        }
      ],
      "source": [
        "# Check device availability\n",
        "device = torch.device('cuda' if torch.cuda.is_available() else 'cpu')\n",
        "print(\"You are using device: %s\" % device)"
      ]
    },
    {
      "cell_type": "code",
      "execution_count": 3,
      "metadata": {
        "id": "zJXBPulgefhH"
      },
      "outputs": [],
      "source": [
        "# load data\n",
        "def load_data(TBD = None):\n",
        "    pass"
      ]
    },
    {
      "cell_type": "markdown",
      "metadata": {
        "id": "FDmu06h_efhI"
      },
      "source": [
        "# **1: Preprocess Data**"
      ]
    },
    {
      "cell_type": "code",
      "execution_count": null,
      "metadata": {
        "id": "xSE8cUDJefhP"
      },
      "outputs": [],
      "source": [
        "# Preprocess data\n",
        "def preprocess_data(TBD = None):\n",
        "    pass"
      ]
    },
    {
      "cell_type": "markdown",
      "metadata": {
        "id": "l6yEbmAxefhR"
      },
      "source": [
        "# **2: Implement LSTM-CNN Model**"
      ]
    },
    {
      "cell_type": "code",
      "execution_count": null,
      "metadata": {
        "id": "zehlTZ-uefhT"
      },
      "outputs": [],
      "source": [
        "# Create LSTM-RNN PyTorch Class"
      ]
    },
    {
      "cell_type": "markdown",
      "metadata": {
        "id": "lXWiEnuvjvkt"
      },
      "source": [
        "# **2: Train LSTM-CNN Model**"
      ]
    },
    {
      "cell_type": "code",
      "execution_count": null,
      "metadata": {
        "id": "FWXBz_FaefhX"
      },
      "outputs": [],
      "source": [
        "# Train LSTM-RNN Model Her"
      ]
    }
  ],
  "metadata": {
    "accelerator": "GPU",
    "colab": {
      "collapsed_sections": [
        "dfJtyp5Kefgy",
        "tmSlhfxwefg9",
        "O66UKOZnefg_",
        "FDmu06h_efhI",
        "l6yEbmAxefhR",
        "cTkd6oseefhS",
        "zZwBWMZzefhU",
        "v7zKygJLefhW",
        "oUL7qUZKefhW",
        "o7XOnp0LefhX",
        "fBXsJFeTefhZ",
        "XYB7O3D1efha",
        "_VzSCxdPefhd",
        "qVs0KDP0efhe",
        "z-S4wWKRefhe",
        "N49WZFwdefhf",
        "CPrD-eJoefhg",
        "aS0afPPDefhh",
        "-oU3skwOefhi",
        "KqV-7w2wefhj",
        "pr_Ehyqvefhk",
        "RcS_FVV7efhk"
      ],
      "gpuType": "T4",
      "machine_shape": "hm",
      "provenance": []
    },
    "interpreter": {
      "hash": "0e75f62e3678e2cc45ba815b06d45149f3ef8e725365fb50a06024c1d0abc38d"
    },
    "kernelspec": {
      "display_name": "Python 3 (ipykernel)",
      "language": "python",
      "name": "python3"
    },
    "language_info": {
      "codemirror_mode": {
        "name": "ipython",
        "version": 3
      },
      "file_extension": ".py",
      "mimetype": "text/x-python",
      "name": "python",
      "nbconvert_exporter": "python",
      "pygments_lexer": "ipython3",
      "version": "3.8.10"
    }
  },
  "nbformat": 4,
  "nbformat_minor": 0
}