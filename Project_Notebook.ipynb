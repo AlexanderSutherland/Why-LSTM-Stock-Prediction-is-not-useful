{
 "cells": [
  {
   "cell_type": "markdown",
   "metadata": {
    "id": "view-in-github",
    "colab_type": "text"
   },
   "source": [
    "<a href=\"https://colab.research.google.com/github/AlexanderSutherland/CS7643_Project/blob/main/Project_Notebook.ipynb\" target=\"_parent\"><img src=\"https://colab.research.google.com/assets/colab-badge.svg\" alt=\"Open In Colab\"/></a>"
   ]
  },
  {
   "cell_type": "markdown",
   "metadata": {
    "collapsed": true,
    "id": "dfJtyp5Kefgy",
    "jupyter": {
     "outputs_hidden": true
    }
   },
   "source": [
    "# LSTM-CNN Project\n",
    "This section will process the raw data into processed data"
   ]
  },
  {
   "cell_type": "code",
   "metadata": {
    "id": "e9wH5bYVefhA",
    "colab": {
     "base_uri": "https://localhost:8080/"
    },
    "outputId": "685f4cb9-5cdd-4cc4-ddfb-62b939962493",
    "ExecuteTime": {
     "end_time": "2024-07-28T13:59:43.100128Z",
     "start_time": "2024-07-28T13:59:40.698398Z"
    }
   },
   "source": [
    "import math\n",
    "import time\n",
    "import io\n",
    "import numpy as np\n",
    "import pandas as pd\n",
    "import datetime as dt\n",
    "import csv\n",
    "from IPython.display import Image\n",
    "\n",
    "# Pytorch package\n",
    "import torch\n",
    "import torch.nn as nn\n",
    "import torch.optim as optim\n",
    "\n",
    "# # Torchtest package\n",
    "# import torchtext\n",
    "# from torchtext.datasets import Multi30k\n",
    "# from torch.utils.data import DataLoader\n",
    "# from torchtext.data.utils import get_tokenizer\n",
    "# from collections import Counter\n",
    "# from torchtext.vocab import vocab\n",
    "# from torchtext.utils import download_from_url, extract_archive\n",
    "# from torch.nn.utils.rnn import pad_sequence\n",
    "\n",
    "\n",
    "\n",
    "\n",
    "\n",
    "# for auto-reloading external modules\n",
    "# see http://stackoverflow.com/questions/1907993/autoreload-of-modules-in-ipython\n",
    "%load_ext autoreload\n",
    "%autoreload 2"
   ],
   "outputs": [],
   "execution_count": 3
  },
  {
   "cell_type": "code",
   "metadata": {
    "id": "tHOKA0U5efhF",
    "colab": {
     "base_uri": "https://localhost:8080/"
    },
    "outputId": "3f721737-8d2f-4254-b0e7-f42c629a7986",
    "ExecuteTime": {
     "end_time": "2024-07-27T15:57:10.501896Z",
     "start_time": "2024-07-27T15:57:10.472174Z"
    }
   },
   "source": [
    "# Check device availability\n",
    "device = torch.device('cuda' if torch.cuda.is_available() else 'cpu')\n",
    "print(\"You are using device: %s\" % device)"
   ],
   "outputs": [
    {
     "name": "stdout",
     "output_type": "stream",
     "text": [
      "You are using device: cpu\n"
     ]
    }
   ],
   "execution_count": 3
  },
  {
   "cell_type": "markdown",
   "source": "Test",
   "metadata": {
    "id": "mZwe0eSl3_a9"
   }
  },
  {
   "cell_type": "code",
   "metadata": {
    "id": "zJXBPulgefhH",
    "colab": {
     "base_uri": "https://localhost:8080/"
    },
    "outputId": "7fd24bcb-bc7a-4346-b76b-8997da83cc07",
    "ExecuteTime": {
     "end_time": "2024-07-28T14:24:55.558541Z",
     "start_time": "2024-07-28T14:24:55.503710Z"
    }
   },
   "source": [
    "# load data\n",
    "\n",
    "sd = dt.datetime(2014, 1, 1)\n",
    "ed = dt.datetime(2016, 1, 1)\n",
    "\n",
    "import sklearn as scikit_learn\n",
    "from sklearn.preprocessing import MinMaxScaler\n",
    "\n",
    "from utils import lstm_dataprep \n",
    "\n",
    "def load_data(TBD = None):\n",
    "    df_smh = pd.read_csv(\"./data/SMH.csv\", index_col=\"Date\") #, parse_dates =['date'])\n",
    "    \n",
    "    \n",
    "    dates = pd.date_range(sd, ed)\n",
    "    df_target = df_smh[[\"Adj Close\"]]\n",
    "    df_shifted = lstm_dataprep(df_target, 4)\n",
    "    print(df_shifted.head())\n",
    "        \n",
    "load_data()"
   ],
   "outputs": [
    {
     "name": "stdout",
     "output_type": "stream",
     "text": [
      "           Adj Close  Adj Close(t-1)  Adj Close(t-2)  Adj Close(t-3)  \\\n",
      "Date                                                                   \n",
      "1/8/2010   12.200647       11.961082       12.055198       12.085142   \n",
      "1/11/2010  12.157867       12.200647       11.961082       12.055198   \n",
      "1/12/2010  11.725797       12.157867       12.200647       11.961082   \n",
      "1/13/2010  11.875525       11.725797       12.157867       12.200647   \n",
      "1/14/2010  11.892636       11.875525       11.725797       12.157867   \n",
      "\n",
      "           Adj Close(t-4)  \n",
      "Date                       \n",
      "1/8/2010        12.153588  \n",
      "1/11/2010       12.085142  \n",
      "1/12/2010       12.055198  \n",
      "1/13/2010       11.961082  \n",
      "1/14/2010       12.200647  \n"
     ]
    }
   ],
   "execution_count": 23
  },
  {
   "cell_type": "markdown",
   "metadata": {
    "id": "FDmu06h_efhI"
   },
   "source": [
    "# **1: Preprocess Data**"
   ]
  },
  {
   "cell_type": "code",
   "execution_count": null,
   "metadata": {
    "id": "xSE8cUDJefhP"
   },
   "outputs": [],
   "source": [
    "# Preprocess data\n",
    "def preprocess_data(TBD = None):\n",
    "    pass"
   ]
  },
  {
   "cell_type": "markdown",
   "metadata": {
    "id": "l6yEbmAxefhR"
   },
   "source": [
    "# **2: Implement LSTM-CNN Model**"
   ]
  },
  {
   "cell_type": "code",
   "execution_count": null,
   "metadata": {
    "id": "zehlTZ-uefhT"
   },
   "outputs": [],
   "source": [
    "# Create LSTM-RNN PyTorch Class"
   ]
  },
  {
   "cell_type": "markdown",
   "metadata": {
    "id": "lXWiEnuvjvkt"
   },
   "source": [
    "# **2: Train LSTM-CNN Model**"
   ]
  },
  {
   "cell_type": "code",
   "execution_count": null,
   "metadata": {
    "id": "FWXBz_FaefhX"
   },
   "outputs": [],
   "source": [
    "# Train LSTM-RNN Model Her"
   ]
  }
 ],
 "metadata": {
  "colab": {
   "collapsed_sections": [
    "l6yEbmAxefhR"
   ],
   "provenance": [],
   "include_colab_link": true
  },
  "interpreter": {
   "hash": "0e75f62e3678e2cc45ba815b06d45149f3ef8e725365fb50a06024c1d0abc38d"
  },
  "kernelspec": {
   "display_name": "Python 3 (ipykernel)",
   "name": "python3",
   "language": "python"
  },
  "language_info": {
   "codemirror_mode": {
    "name": "ipython",
    "version": 3
   },
   "file_extension": ".py",
   "mimetype": "text/x-python",
   "name": "python",
   "nbconvert_exporter": "python",
   "pygments_lexer": "ipython3",
   "version": "3.8.10"
  }
 },
 "nbformat": 4,
 "nbformat_minor": 0
}
